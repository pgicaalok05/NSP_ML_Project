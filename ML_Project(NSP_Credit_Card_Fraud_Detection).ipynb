{
  "nbformat": 4,
  "nbformat_minor": 0,
  "metadata": {
    "colab": {
      "private_outputs": true,
      "provenance": []
    },
    "kernelspec": {
      "name": "python3",
      "display_name": "Python 3"
    },
    "language_info": {
      "name": "python"
    }
  },
  "cells": [
    {
      "cell_type": "code",
      "execution_count": null,
      "metadata": {
        "id": "Ipqx8TdCC66D"
      },
      "outputs": [],
      "source": [
        "import numpy as np\n",
        "import pandas as pd\n",
        "import matplotlib.pyplot as plt\n",
        "import seaborn as sns"
      ]
    },
    {
      "cell_type": "code",
      "source": [
        "from google.colab import drive\n",
        "drive.mount('/content/drive')"
      ],
      "metadata": {
        "id": "faqib5qsWatC"
      },
      "execution_count": null,
      "outputs": []
    },
    {
      "cell_type": "code",
      "source": [
        "dataset = pd.read_csv('/content/drive/My Drive/Colab Notebooks/Dataset/card_transdata.csv')"
      ],
      "metadata": {
        "id": "Q8xn8rzXWip9"
      },
      "execution_count": null,
      "outputs": []
    },
    {
      "cell_type": "code",
      "source": [
        "dataset"
      ],
      "metadata": {
        "id": "RufnEECvXNEx"
      },
      "execution_count": null,
      "outputs": []
    },
    {
      "cell_type": "code",
      "source": [
        "df = dataset.copy()"
      ],
      "metadata": {
        "id": "9O1kor_gXSTU"
      },
      "execution_count": null,
      "outputs": []
    },
    {
      "cell_type": "code",
      "source": [
        "df"
      ],
      "metadata": {
        "id": "iQr_aU6JXquk"
      },
      "execution_count": null,
      "outputs": []
    },
    {
      "cell_type": "code",
      "source": [
        "df.info()"
      ],
      "metadata": {
        "id": "GcHd4p3RXrsD"
      },
      "execution_count": null,
      "outputs": []
    },
    {
      "cell_type": "code",
      "source": [
        "df.isnull().sum()"
      ],
      "metadata": {
        "id": "qn-2BH9iX3Dx"
      },
      "execution_count": null,
      "outputs": []
    },
    {
      "cell_type": "code",
      "source": [
        "df.describe()"
      ],
      "metadata": {
        "id": "5jnEU204YAqL"
      },
      "execution_count": null,
      "outputs": []
    },
    {
      "cell_type": "code",
      "source": [
        "df[df.duplicated()]"
      ],
      "metadata": {
        "id": "SEs38SavYRx1"
      },
      "execution_count": null,
      "outputs": []
    },
    {
      "cell_type": "code",
      "source": [
        "#Count total number of classes in Data\n",
        "class_counts = dataset.groupby('fraud').size()\n",
        "print(class_counts)"
      ],
      "metadata": {
        "id": "pGZK8oYUZIn0"
      },
      "execution_count": null,
      "outputs": []
    },
    {
      "cell_type": "code",
      "source": [
        "corr = df.corr().abs()\n",
        "mask = np.triu(np.ones_like(corr, dtype=bool))\n",
        "sns.heatmap(corr, annot=True, fmt=\".2f\", linewidths=.5, mask=mask, robust=True)"
      ],
      "metadata": {
        "id": "upTnaN7geUFd"
      },
      "execution_count": null,
      "outputs": []
    },
    {
      "cell_type": "code",
      "source": [
        "\n",
        "cols_num = [\"distance_from_home\", \"distance_from_last_transaction\", \"ratio_to_median_purchase_price\",\"repeat_retailer\",\"used_chip\",\"used_pin_number\",\"online_order\",\"fraud\"]\n",
        "fig, axs = plt.subplots(8,1, figsize=(15,20), constrained_layout=True)\n",
        "i = 0\n",
        "for col in cols_num :\n",
        "    axs[i].hist(df[col], bins=100)\n",
        "    axs[i].set_title(col)\n",
        "    i += 1\n",
        "#plt.figure(figsize=(100,50))\n",
        "plt.show()"
      ],
      "metadata": {
        "id": "KIaY9zvpfPtr"
      },
      "execution_count": null,
      "outputs": []
    },
    {
      "cell_type": "code",
      "source": [
        "df_new = df.sample(n=30000, random_state=42)\n",
        "sns.pairplot(df_new,hue='fraud')\n",
        "plt.show()"
      ],
      "metadata": {
        "id": "JU6oVztwf9V6"
      },
      "execution_count": null,
      "outputs": []
    },
    {
      "cell_type": "code",
      "source": [
        "\n",
        "from matplotlib import pyplot\n",
        "df.hist()\n",
        "pyplot.show()"
      ],
      "metadata": {
        "id": "-aAIn7RTjCDe"
      },
      "execution_count": null,
      "outputs": []
    },
    {
      "cell_type": "code",
      "source": [
        "df.plot(kind='density' ,subplots=True, layout=(4,4), sharex=False)\n",
        "pyplot.show()"
      ],
      "metadata": {
        "id": "FJ2FeDGRlwKb"
      },
      "execution_count": null,
      "outputs": []
    },
    {
      "cell_type": "code",
      "source": [
        "cols_X = [\"distance_from_home\", \n",
        "          \"distance_from_last_transaction\", \n",
        "          \"ratio_to_median_purchase_price\", \n",
        "          \"repeat_retailer\", \n",
        "          \"used_chip\", \n",
        "          \"used_pin_number\", \n",
        "          \"online_order\"]\n",
        "col_y = \"fraud\""
      ],
      "metadata": {
        "id": "kE9gcmmrfdf_"
      },
      "execution_count": null,
      "outputs": []
    },
    {
      "cell_type": "code",
      "source": [
        "cols_X"
      ],
      "metadata": {
        "id": "nPyf6dYWgTUv"
      },
      "execution_count": null,
      "outputs": []
    },
    {
      "cell_type": "code",
      "source": [
        "col_y"
      ],
      "metadata": {
        "id": "cOc0Af04gV3q"
      },
      "execution_count": null,
      "outputs": []
    },
    {
      "cell_type": "code",
      "source": [
        "df_traintm = df[cols_X+[col_y]].sample(frac=0.8,random_state=42)\n",
        "df_test = df[cols_X+[col_y]].drop(df_traintm.index)\n",
        "\n",
        "df_traintm.shape, df_test.shape"
      ],
      "metadata": {
        "id": "n7SPMsg9gaax"
      },
      "execution_count": null,
      "outputs": []
    },
    {
      "cell_type": "code",
      "source": [
        "df_train = df_traintm[cols_X+[col_y]].sample(frac=0.8,random_state=42)\n",
        "df_val = df_traintm[cols_X+[col_y]].drop(df_train.index)\n",
        "\n",
        "df_train.shape, df_val.shape"
      ],
      "metadata": {
        "id": "MwbbS0E8ggBp"
      },
      "execution_count": null,
      "outputs": []
    },
    {
      "cell_type": "code",
      "source": [
        "X_train = df_train[cols_X].values\n",
        "X_val = df_val[cols_X].values\n",
        "X_test = df_test[cols_X].values\n",
        "y_train = df_train[col_y].values\n",
        "y_val = df_val[col_y].values\n",
        "y_test = df_test[col_y].values\n",
        "\n",
        "print(X_train.shape, X_val.shape, X_test.shape)\n",
        "print(y_train.shape, y_val.shape, y_test.shape)"
      ],
      "metadata": {
        "id": "-ZnaNdmrguOd"
      },
      "execution_count": null,
      "outputs": []
    },
    {
      "cell_type": "code",
      "source": [
        "from sklearn.preprocessing import StandardScaler\n",
        "sc = StandardScaler()\n",
        "X_train = sc.fit_transform(X_train)\n",
        "X_test = sc.transform (X_test)\n",
        "X_val = sc.transform(X_val)\n",
        "print(np.mean(X_train))\n",
        "print(np.std(X_train))"
      ],
      "metadata": {
        "id": "GrxLcWhgifwj"
      },
      "execution_count": null,
      "outputs": []
    },
    {
      "cell_type": "code",
      "source": [
        "from imblearn.over_sampling import SMOTE\n",
        "smote = SMOTE(random_state=42, sampling_strategy='minority')\n",
        "X_train_smote, y_train_smote = smote.fit_resample(X_train, y_train)"
      ],
      "metadata": {
        "id": "Gvw4Vuqdgynh"
      },
      "execution_count": null,
      "outputs": []
    },
    {
      "cell_type": "code",
      "source": [
        "X_train_smote"
      ],
      "metadata": {
        "id": "SgRtbZ_5zbXs"
      },
      "execution_count": null,
      "outputs": []
    },
    {
      "cell_type": "code",
      "source": [
        "y_train_smote"
      ],
      "metadata": {
        "id": "qfE_ltiLzhXg"
      },
      "execution_count": null,
      "outputs": []
    },
    {
      "cell_type": "code",
      "source": [
        "from collections import Counter\n",
        "print(f\"SMOTE \\t\\t\\t: {Counter(y_train_smote)}\")"
      ],
      "metadata": {
        "id": "zOoDhb3OhIs9"
      },
      "execution_count": null,
      "outputs": []
    },
    {
      "cell_type": "code",
      "source": [
        "score = dict()\n",
        "score[\"model\"] = []\n",
        "score[\"resampling\"] = []\n",
        "score[\"recall\"] = []\n",
        "score[\"precision\"] = []\n",
        "score[\"f1\"] = []\n",
        "score[\"accuracy\"] = []\n",
        "score[\"auc\"] = []"
      ],
      "metadata": {
        "id": "0Zq6WsbghcfS"
      },
      "execution_count": null,
      "outputs": []
    },
    {
      "cell_type": "code",
      "source": [
        "from sklearn.linear_model import LogisticRegression\n",
        "from sklearn.metrics import *"
      ],
      "metadata": {
        "id": "fN-BWvtKhjfB"
      },
      "execution_count": null,
      "outputs": []
    },
    {
      "cell_type": "code",
      "source": [
        "log_reg = LogisticRegression(random_state=42, multi_class='ovr', n_jobs=-1)\n",
        "log_reg.fit(X_train_smote, y_train_smote)\n",
        "\n",
        "y_val_pred = log_reg.predict(X_val)\n",
        "y_val_pred_prob = log_reg.predict_proba(X_val)\n",
        "\n",
        "score[\"model\"].append(\"logistict Regression\")\n",
        "score[\"resampling\"].append(\"Smote oversampling\")\n",
        "score[\"recall\"].append(recall_score(y_val, y_val_pred))\n",
        "score[\"precision\"].append(precision_score(y_val, y_val_pred))\n",
        "score[\"f1\"].append(f1_score(y_val, y_val_pred))\n",
        "score[\"accuracy\"].append(accuracy_score(y_val, y_val_pred)*100)\n",
        "score[\"auc\"].append(roc_auc_score(y_val, y_val_pred_prob[:, 1]))\n",
        "\n",
        "pd.DataFrame.from_dict(score)"
      ],
      "metadata": {
        "id": "Ak25iQ8Jhnpp"
      },
      "execution_count": null,
      "outputs": []
    },
    {
      "cell_type": "code",
      "source": [
        "cm = confusion_matrix(y_val, y_val_pred)\n",
        "print('Confusion matrix: ')\n",
        "print(cm)"
      ],
      "metadata": {
        "id": "uqj2DW_rh5Xx"
      },
      "execution_count": null,
      "outputs": []
    },
    {
      "cell_type": "code",
      "source": [
        "score = log_reg.score(X_test, y_test)\n",
        "print(score)"
      ],
      "metadata": {
        "id": "ojwoDKneiryU"
      },
      "execution_count": null,
      "outputs": []
    },
    {
      "cell_type": "code",
      "source": [
        "distance_from_home =57.877  #@param {type:\"number\"}\n",
        "distance_from_last_transaction =0.311140  #@param {type:\"number\"}\n",
        "ratio_to_median_purchase_price =1.9459  #@param {type:\"number\"}\n",
        "repeat_retailer = 1.0 #@param {type:\"number\"}\n",
        "used_chip = 1.0  #@param {type:\"number\"}\n",
        "used_pin_number =0.0  #@param {type:\"number\"}\n",
        "online_order=0.0  #@param {type:\"number\"}\n",
        "output = log_reg.predict(sc.transform([[distance_from_home, \n",
        "          distance_from_last_transaction, \n",
        "          ratio_to_median_purchase_price, \n",
        "          repeat_retailer, \n",
        "          used_chip, \n",
        "          used_pin_number, \n",
        "          online_order]]))\n",
        "print(\"Fraud = \",output)\n",
        "\n",
        "if output==[1]:\n",
        "  print(\"It is a Fraud\")\n",
        "else:\n",
        "  print(\"It is not Fraud\")"
      ],
      "metadata": {
        "id": "eG7ucw4z26FY"
      },
      "execution_count": null,
      "outputs": []
    },
    {
      "cell_type": "code",
      "source": [
        "import pickle \n",
        "print(\"[INFO] Saving model...\")\n",
        "NSP_ML_model=pickle.dump(log_reg,open('/content/drive/My Drive/Colab Notebooks/NSP_Creditcardfrauddetection.pkl', 'wb'))"
      ],
      "metadata": {
        "id": "j_z1D3z6mfz6"
      },
      "execution_count": null,
      "outputs": []
    },
    {
      "cell_type": "code",
      "source": [
        "model = pickle.load(open('/content/drive/My Drive/Colab Notebooks/NSP_Creditcardfrauddetection.pkl','rb'))\n",
        "model.predict(X_val)"
      ],
      "metadata": {
        "id": "YfT0uwssqbnD"
      },
      "execution_count": null,
      "outputs": []
    },
    {
      "cell_type": "code",
      "source": [
        "!pip install streamlit==1.1.0"
      ],
      "metadata": {
        "id": "78-c0P3iY5PF"
      },
      "execution_count": null,
      "outputs": []
    },
    {
      "cell_type": "code",
      "source": [
        "import pickle\n",
        "pickle_in = open(\"/content/drive/My Drive/Colab Notebooks/NSP_Creditcardfrauddetection.pkl\",\"rb\")\n",
        "model=pickle.load(pickle_in)"
      ],
      "metadata": {
        "id": "QVqH45tqaUok"
      },
      "execution_count": null,
      "outputs": []
    },
    {
      "cell_type": "code",
      "source": [
        "%%writefile app.py\n",
        "import streamlit as st\n",
        "from PIL import Image\n",
        "import pickle\n",
        "import numpy as np\n",
        "import matplotlib.pyplot as plt\n",
        "import pandas as pd\n",
        "st.set_option('deprecation.showfileUploaderEncoding', False)\n",
        "# Load the pickled model\n",
        "pickle_in = open(\"/content/drive/My Drive/Colab Notebooks/NSP_Creditcardfrauddetection.pkl\",\"rb\")\n",
        "model=pickle.load(pickle_in)\n",
        "dataset= pd.read_csv('/content/drive/My Drive/Colab Notebooks/Dataset/card_transdata.csv')\n",
        "X = dataset.iloc[:, [:8]].values\n",
        "from sklearn.preprocessing import StandardScaler\n",
        "sc = StandardScaler()\n",
        "X = sc.fit_transform(X)\n",
        "def predict_note_authentication(distance_from_home, distance_from_last_transaction, ratio_to_median_purchase_price, repeat_retailer, used_chip, used_pin_number, online_order):\n",
        "  output= model.predict(sc.transform([[distance_from_home, distance_from_last_transaction, ratio_to_median_purchase_price, repeat_retailer, used_chip, used_pin_number, online_order]]))\n",
        "  print(\"Fraud\", output)\n",
        "  if output==[1]:\n",
        "    prediction=\"It is a Fraud\"\n",
        "  else:\n",
        "    prediction=\"It is not a Fraud\"\n",
        "  print(prediction)\n",
        "  return prediction\n",
        "def main():\n",
        "    \n",
        "    html_temp = \"\"\"\n",
        "   <div class=\"\" style=\"background-color:blue;\" >\n",
        "   <div class=\"clearfix\">           \n",
        "   <div class=\"col-md-12\">\n",
        "   <center><p style=\"font-size:40px;color:white;margin-top:10px;\">Poornima Group Of Institution</p></center> \n",
        "   <center><p style=\"font-size:30px;color:white;margin-top:10px;\">Department of Artificial Intelligence and Data Science</p></center> \n",
        "   <center><p style=\"font-size:25px;color:white;margin-top:10px;\">ML_Lab Project Deployment</p></center> \n",
        "   </div>\n",
        "   </div>\n",
        "   </div>\n",
        "   \"\"\"\n",
        "    st.markdown(html_temp,unsafe_allow_html=True)\n",
        "    st.header(\"Credi Card Fraud Detection\")\n",
        "    distance_from_home = st.number_input(\"Distance From Home\",\"\")\n",
        "    distance_from_last_transaction = st.number_input(\"Distance From Last Transaction\") \n",
        "    ratio_to_median_purchase_price = st.number_input(\"Ratio to Median Purchase Price\")\n",
        "    repeat_retailer = st.number_input(\"Repeat Retailer\")\n",
        "    used_chip = st.number_input(\"Used Chip\")\n",
        "    used_pin_number = st.number_input(\"Used Pin Number\")\n",
        "    online_order = st.number_input(\"Online Order\")\n",
        "\n",
        "    result=\"\"\n",
        "    if st.button(\"Predict\"):\n",
        "      result=predict_note_authentication(distance_from_home, distance_from_last_transaction, ratio_to_median_purchase_price, repeat_retailer, used_chip, used_pin_number, online_order)\n",
        "      st.success('Model has detected {}'.format(result))\n",
        "    if st.button(\"About\"):\n",
        "      st.subheader(\"Developed by Shakti Sarada Prasad\")\n",
        "      st.subheader(\"Student , Department of Computer Engineering\")\n",
        "\n",
        "if __name__=='__main__':\n",
        "  main()\n"
      ],
      "metadata": {
        "id": "8I7avC8Jq2zi"
      },
      "execution_count": null,
      "outputs": []
    },
    {
      "cell_type": "code",
      "source": [],
      "metadata": {
        "id": "5OZpwEulN--l"
      },
      "execution_count": null,
      "outputs": []
    }
  ]
}